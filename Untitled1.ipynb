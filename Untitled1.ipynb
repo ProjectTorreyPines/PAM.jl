{
 "cells": [
  {
   "cell_type": "code",
   "execution_count": null,
   "id": "0",
   "metadata": {},
   "outputs": [],
   "source": [
    "using FUSE;\n",
    "import IMAS;\n",
    "# start with dd from PAM/ST80_case/ods\n",
    "dd = IMAS.json2imas(\"/Users/galinaavdeeva/.julia/dev/examples_test/dd.json\");\n",
    "act = FUSE.json2act(\"/Users/galinaavdeeva/.julia/dev/examples_test/act.json\");\n",
    "#input=TJLF.readInput(joinpath(pwd(),\"test_input_tglf_saving/input_test_v1\"));"
   ]
  },
  {
   "cell_type": "code",
   "execution_count": null,
   "id": "1",
   "metadata": {},
   "outputs": [],
   "source": [
    "actor_tglf = FUSE.ActorTGLF(dd,act;model=:TJLF); # input_tglf , input_tjlf\n"
   ]
  },
  {
   "cell_type": "code",
   "execution_count": null,
   "id": "2",
   "metadata": {},
   "outputs": [],
   "source": [
    "using TJLF\n",
    "#TJLF.save(actor_tglf.input_tglfs[1],joinpath(pwd(),\"test_input_tglf_saving/input_test_v1\")) # save this and give to galina \n",
    "# galina : load the file and run TJLF\n",
    "TJLF.save(actor_tglf.input_tglfs[1],joinpath(pwd(),\"test_input_tglf_saving/input_test_v1\"))"
   ]
  },
  {
   "cell_type": "code",
   "execution_count": null,
   "id": "3",
   "metadata": {},
   "outputs": [],
   "source": [
    "actor_tglf.input_tglfs[1]"
   ]
  },
  {
   "cell_type": "code",
   "execution_count": null,
   "id": "4",
   "metadata": {},
   "outputs": [],
   "source": [
    "mkdir(joinpath(pwd(),\"test_input_tglf_saving\"))"
   ]
  },
  {
   "cell_type": "code",
   "execution_count": null,
   "id": "5",
   "metadata": {},
   "outputs": [],
   "source": [
    "TGLFNN = FUSE.TGLFNN\n",
    "TGLFNN.save(actor_tglf.input_tglfs[1],joinpath(pwd(),\"test_input_tglf_saving/input_tglf_test\"))"
   ]
  },
  {
   "cell_type": "code",
   "execution_count": null,
   "id": "6",
   "metadata": {},
   "outputs": [],
   "source": [
    "#display(act.ActorTGLF)\n",
    "display(act.ActorFluxMatcher)"
   ]
  },
  {
   "cell_type": "code",
   "execution_count": null,
   "id": "7",
   "metadata": {},
   "outputs": [],
   "source": [
    "using TJLF\n",
    "#TJLF.save(actor_tglf.input_tglfs[1],joinpath(pwd(),\"test_input_tglf_saving/input_tjlf_test\"))\n",
    "TJLF.readInput(joinpath(pwd(),\"test_input_tglf_saving/rr\"))"
   ]
  },
  {
   "cell_type": "code",
   "execution_count": null,
   "id": "8",
   "metadata": {},
   "outputs": [],
   "source": [
    "act.ActorFluxMatcher.algorithm = :simple\n",
    "#act.ActorFluxMatcher.evolve_densities = :flux_match\n",
    "\n",
    "act.ActorTGLF.sat_rule = :sat3\n",
    "act.ActorFluxMatcher.max_iterations = 2\n",
    "#FUSE.ActorTGLF(dd,act;debug=true)\n",
    "\n",
    "act.ActorTGLF.model = :TJLF\n",
    "act.ActorTGLF.save_input_tglfs_to_folder=pw\n",
    "FUSE.ActorFluxMatcher(dd,act; do_plot=true, verbose=true)\n",
    "#FUSE.ActorTGLF(dd,act; save_input_tglfs_to_folder=pw, debug=true)"
   ]
  },
  {
   "cell_type": "code",
   "execution_count": null,
   "id": "9",
   "metadata": {},
   "outputs": [],
   "source": [
    "dd,ini,act= FUSE.init(:ITER;init_from=:scalars)\n",
    "tjlf_saving_folder= pw\n",
    "\n",
    "\n",
    "act.ActorTGLF.sat_rule = :sat3\n",
    "act.ActorFluxMatcher.max_iterations = 2\n",
    "act.ActorFluxMatcher.algorithm = :simple\n",
    "\n",
    "act.ActorTGLF.model = :TJLF\n",
    "act.ActorTGLF.save_input_tglfs_to_folder = tjlf_saving_folder\n",
    "\n",
    "FUSE.ActorFluxMatcher(dd,act; do_plot=true, verbose=true)\n",
    "\n"
   ]
  },
  {
   "cell_type": "code",
   "execution_count": null,
   "id": "10",
   "metadata": {},
   "outputs": [],
   "source": [
    "display(act.ActorTGLF)\n",
    "display(act.ActorFluxMatcher)"
   ]
  },
  {
   "cell_type": "code",
   "execution_count": null,
   "id": "11",
   "metadata": {},
   "outputs": [],
   "source": [
    "c = pinv(a)"
   ]
  },
  {
   "cell_type": "code",
   "execution_count": null,
   "id": "12",
   "metadata": {},
   "outputs": [],
   "source": [
    "using LinearAlgebra\n",
    "isinvertible(a)"
   ]
  },
  {
   "cell_type": "code",
   "execution_count": null,
   "id": "13",
   "metadata": {},
   "outputs": [],
   "source": [
    "pw=joinpath(pwd(),\"test_input_tglf_saving/\")"
   ]
  },
  {
   "cell_type": "code",
   "execution_count": null,
   "id": "14",
   "metadata": {},
   "outputs": [],
   "source": []
  }
 ],
 "metadata": {
  "kernelspec": {
   "display_name": "Julia (8 threads) 1.11.4",
   "language": "julia",
   "name": "julia-_8-threads_-1.11"
  },
  "language_info": {
   "file_extension": ".jl",
   "mimetype": "application/julia",
   "name": "julia",
   "version": "1.11.4"
  }
 },
 "nbformat": 4,
 "nbformat_minor": 5
}
