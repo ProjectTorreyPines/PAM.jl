{
 "cells": [
  {
   "cell_type": "code",
   "execution_count": null,
   "id": "0",
   "metadata": {},
   "outputs": [],
   "source": [
    "using Plots\n",
    "using PAM\n",
    "using FUSE"
   ]
  },
  {
   "cell_type": "markdown",
   "id": "1",
   "metadata": {},
   "source": [
    "# Generate inputs (start with D3D template)"
   ]
  },
  {
   "cell_type": "code",
   "execution_count": null,
   "id": "2",
   "metadata": {},
   "outputs": [],
   "source": [
    "\n",
    "dd_D3D = IMAS.json2imas(\"/Users/galinaavdeeva/.julia/dev/PAM/examples/template_D3D_1layer_2species.json\");\n",
    "\n",
    "#-------- Check inputs ------------------------\n",
    "#plot(dd.equilibrium)\n",
    "#plot(dd_D3D.core_profiles)\n",
    " \n"
   ]
  },
  {
   "cell_type": "markdown",
   "id": "3",
   "metadata": {},
   "source": [
    "# Display and modify pellet inputs"
   ]
  },
  {
   "cell_type": "code",
   "execution_count": null,
   "id": "4",
   "metadata": {},
   "outputs": [],
   "source": [
    "#display(dd_D3D.pellets)\n",
    "\n",
    "dd_D3D.pellets.time_slice[].pellet[1].velocity_initial = 200.0;\n"
   ]
  },
  {
   "cell_type": "markdown",
   "id": "5",
   "metadata": {},
   "source": [
    "# Running PAM"
   ]
  },
  {
   "cell_type": "code",
   "execution_count": null,
   "id": "6",
   "metadata": {},
   "outputs": [],
   "source": [
    "\n",
    "inputs=(\n",
    "   t_start = 0.0,\n",
    "   t_finish = 0.0005,\n",
    "   time_step = 0.0001, \n",
    "   drift_model= :HPI2,\n",
    "   Bt_dependance=true,\n",
    "   update_plasma = false,\n",
    ")\n",
    "\n",
    "\n",
    "pellet_PAM = PAM.run_PAM(dd_D3D; inputs...);"
   ]
  },
  {
   "cell_type": "markdown",
   "id": "7",
   "metadata": {},
   "source": [
    "# Plot pellet trajectory and density source deposition"
   ]
  },
  {
   "cell_type": "code",
   "execution_count": null,
   "id": "8",
   "metadata": {},
   "outputs": [],
   "source": [
    "plot(dd_D3D.equilibrium;cx=true)\n",
    "plot!(pellet_PAM; plot_cloud=false)"
   ]
  },
  {
   "cell_type": "markdown",
   "id": "9",
   "metadata": {},
   "source": [
    "# Plot pellet radius, ablation"
   ]
  },
  {
   "cell_type": "code",
   "execution_count": null,
   "id": "10",
   "metadata": {},
   "outputs": [],
   "source": [
    "plot(pellet_PAM.time, pellet_PAM.radius)"
   ]
  },
  {
   "cell_type": "code",
   "execution_count": null,
   "id": "11",
   "metadata": {},
   "outputs": [],
   "source": [
    "\n",
    "plot(pellet_PAM.r, pellet_PAM.ablation_rate)"
   ]
  },
  {
   "cell_type": "markdown",
   "id": "12",
   "metadata": {},
   "source": [
    "# Compare with D3D OMFIT case"
   ]
  },
  {
   "cell_type": "code",
   "execution_count": null,
   "id": "13",
   "metadata": {},
   "outputs": [],
   "source": [
    "# results for D3D case DT - 50-50, radius = 0.1 cm, velocity = -200, with Bt dependance and Parks drift model\n",
    "\n",
    "omfit_radius=[0.1, 0.1, 0.09907301, 0.09514626, 0.08962336, 0.08174432, 0.07028775, 0.05297672, 0.02178495, 0.0 , 0.0,  0.0 , 0.0, 0.0, 0.0];\n",
    "\n",
    "omfit_R = [2.3,  2.28, 2.26, 2.24, 2.22, 2.2,  2.18, 2.16, 2.14, 2.12, 2.1,  2.08, 2.06, 2.04, 2.02];\n",
    "omfit_time = [0.,  0.1, 0.2, 0.3, 0.4, 0.5, 0.6, 0.7, 0.8, 0.9, 1.,  1.1, 1.2, 1.3, 1.4];\n",
    "omfit_ablation_D = [0.00000000e+00, 0.00000000e+00, 1.15829553e+23, 1.62737315e+23, 2.03252305e+23, 2.43448343e+23, 2.64645468e+23, 2.35555840e+23,\n",
    "9.11641845e+22, 0.00000000e+00, 0.00000000e+00, 0.00000000e+00, 0.00000000e+00, 0.00000000e+00, 0.00000000e+00];\n"
   ]
  },
  {
   "cell_type": "code",
   "execution_count": null,
   "id": "14",
   "metadata": {},
   "outputs": [],
   "source": [
    "\n",
    "plot(pellet_PAM.time, pellet_PAM.radius)\n",
    "plot!(omfit_time, omfit_radius,markershape=:circle)\n"
   ]
  },
  {
   "cell_type": "code",
   "execution_count": null,
   "id": "15",
   "metadata": {},
   "outputs": [],
   "source": [
    "plot(pellet_PAM.r, pellet_PAM.ablation_rate)\n",
    "plot!(omfit_R, omfit_ablation_D*2,markershape=:circle)"
   ]
  },
  {
   "cell_type": "markdown",
   "id": "16",
   "metadata": {},
   "source": [
    "# Use PAM actor"
   ]
  },
  {
   "cell_type": "code",
   "execution_count": null,
   "id": "17",
   "metadata": {},
   "outputs": [],
   "source": [
    "act = FUSE.ParametersActors();\n",
    "#start from new dd\n",
    "dd_D3D = IMAS.json2imas(\"/Users/galinaavdeeva/.julia/dev/PAM/examples/template_D3D_1layer_2species.json\");"
   ]
  },
  {
   "cell_type": "markdown",
   "id": "18",
   "metadata": {},
   "source": [
    "# Resize dd to add pellet information to the pulse schedule (requred for the actor)"
   ]
  },
  {
   "cell_type": "code",
   "execution_count": null,
   "id": "19",
   "metadata": {},
   "outputs": [],
   "source": [
    "resize!(dd_D3D.pulse_schedule.pellet.launcher, 1);\n",
    "dd_D3D.pulse_schedule.pellet.time = dd_D3D.pellets.time;\n",
    "dd_D3D.pulse_schedule.pellet.launcher[1].frequency.reference = [2.0];\n",
    "# also need to add information to the launcher\n",
    "resize!(dd_D3D.pellets.launcher, 1);\n",
    "dd_D3D.pellets.launcher[1].name = \"pellet\";\n",
    "#save dd for future use\n",
    "dd_D3D_to_restart=dd_D3D;"
   ]
  },
  {
   "cell_type": "code",
   "execution_count": null,
   "id": "20",
   "metadata": {},
   "outputs": [],
   "source": [
    "actor = FUSE.ActorPAM(dd_D3D, act);\n"
   ]
  },
  {
   "cell_type": "markdown",
   "id": "21",
   "metadata": {},
   "source": [
    "# Plot density source from the pellet"
   ]
  },
  {
   "cell_type": "code",
   "execution_count": null,
   "id": "22",
   "metadata": {},
   "outputs": [],
   "source": [
    "plot(dd_D3D.core_sources)"
   ]
  },
  {
   "cell_type": "markdown",
   "id": "23",
   "metadata": {},
   "source": [
    "# Use PAM actor to update plasma density"
   ]
  },
  {
   "cell_type": "code",
   "execution_count": null,
   "id": "24",
   "metadata": {},
   "outputs": [],
   "source": [
    "#show fields of the actor\n",
    "display(act.ActorPAM)\n"
   ]
  },
  {
   "cell_type": "code",
   "execution_count": null,
   "id": "25",
   "metadata": {},
   "outputs": [],
   "source": [
    "# use actor with plasma density update\n",
    "act.ActorPAM.density_update = true;"
   ]
  },
  {
   "cell_type": "code",
   "execution_count": null,
   "id": "26",
   "metadata": {},
   "outputs": [],
   "source": [
    "actor = FUSE.ActorPAM(dd_D3D_to_restart, act);\n",
    "plot(dd_D3D_to_restart.core_profiles)\n",
    "plot!(dd_D3D.core_profiles)"
   ]
  },
  {
   "cell_type": "code",
   "execution_count": null,
   "id": "27",
   "metadata": {},
   "outputs": [],
   "source": []
  }
 ],
 "metadata": {
  "kernelspec": {
   "display_name": "Julia (8 threads) 1.11.3",
   "language": "julia",
   "name": "julia-_8-threads_-1.11"
  },
  "language_info": {
   "file_extension": ".jl",
   "mimetype": "application/julia",
   "name": "julia",
   "version": "1.11.3"
  }
 },
 "nbformat": 4,
 "nbformat_minor": 5
}
