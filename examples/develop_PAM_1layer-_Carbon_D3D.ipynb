{
 "cells": [
  {
   "cell_type": "code",
   "execution_count": null,
   "id": "0",
   "metadata": {},
   "outputs": [],
   "source": [
    "using Plots\n",
    "using PAM\n",
    "using FUSE"
   ]
  },
  {
   "cell_type": "code",
   "execution_count": null,
   "id": "1",
   "metadata": {},
   "outputs": [],
   "source": [
    "import IMAS;\n",
    "# start with ods for DIIID case\n",
    "dd = IMAS.json2imas(\"/Users/galinaavdeeva/.julia/dev/PAM/inputs/ods_d3d.json\");\n",
    "eqt = dd.equilibrium.time_slice[]\n",
    "IMAS.flux_surfaces(eqt, IMAS.first_wall(dd.wall)...);\n",
    "# add missing (in OMFIT) time_slice to ods\n",
    "dd_pellet = IMAS.json2imas(\"/Users/galinaavdeeva/.julia/dev/PAM/examples/ods.txt\");\n",
    "dd.core_profiles.profiles_1d[1].time = dd.equilibrium.time_slice[1].time;\n",
    "# save dd pellet structure for future use\n",
    "old_pellets = deepcopy(dd_pellet.pellets);\n"
   ]
  },
  {
   "cell_type": "code",
   "execution_count": null,
   "id": "2",
   "metadata": {},
   "outputs": [],
   "source": [
    "# add and populate 'layer' which are needed to PAM\n",
    "\n",
    "empty!(dd.pellets)\n",
    "resize!(dd.pellets.time_slice)\n",
    "resize!(dd.pellets.time_slice[].pellet, 1)\n",
    "resize!(dd.pellets.time_slice[].pellet[1].layer, 1)\n",
    "resize!(dd.pellets.time_slice[].pellet[1].layer[1].species, 1);\n",
    "#resize!(dd.pellets.time_slice[].pellet[1].layer[1].species, 2);\n"
   ]
  },
  {
   "cell_type": "code",
   "execution_count": null,
   "id": "3",
   "metadata": {},
   "outputs": [],
   "source": [
    "# modify and populate other nessesary entries\n",
    "dd.pellets.time_slice[].pellet[1].layer[1].thickness = 0.001\n",
    "\n",
    "\n",
    "\n",
    "dd.pellets.time_slice[].pellet[1].shape = old_pellets.time_slice[].pellet[1].shape\n",
    "dd.pellets.time_slice[].pellet[1].path_geometry = old_pellets.time_slice[].pellet[1].path_geometry\n",
    "dd.pellets.time_slice[].pellet[1].path_profiles = old_pellets.time_slice[].pellet[1].path_profiles\n",
    "dd.pellets.time_slice[].pellet[1].velocity_initial = 120.0 #old_pellets.time_slice[].pellet[1].velocity_initial\n",
    "props = IMAS.ion_properties(:C)\n",
    "\n",
    "dd.pellets.time_slice[].pellet[1].layer[1].species[1].z_n = props.z_n\n",
    "dd.pellets.time_slice[].pellet[1].layer[1].species[1].a = props.a\n",
    "dd.pellets.time_slice[].pellet[1].layer[1].species[1].label = props.label\n",
    "\n",
    "\n",
    "dd.pellets.time_slice[].pellet[1].layer[1].species[1].fraction = 1.0\n",
    "\n",
    "\n",
    "dd.pellets.time_slice[].pellet[1].path_geometry.second_point.z = 0.0\n",
    "dd.pellets.time_slice[].pellet[1].path_geometry.second_point.phi = 0.0\n",
    "dd.pellets.time_slice[].pellet[1].path_geometry.second_point.r = 1.9\n",
    "dd.pellets.time_slice[].pellet[1].path_geometry.first_point.r = 2.3\n",
    "\n",
    "\n",
    "\n",
    "\n",
    "radii = cumsum([layer.thickness for layer in dd.pellets.time_slice[].pellet[1].layer])\n",
    "dd.pellets.time_slice[].pellet[1].shape.size[1] = 0.001;#radii[end]\n",
    "\n",
    "\n"
   ]
  },
  {
   "cell_type": "code",
   "execution_count": null,
   "id": "4",
   "metadata": {},
   "outputs": [],
   "source": [
    "# run PAM\n",
    "\n",
    "inputs=(\n",
    "   t0 = 0,\n",
    "   tf = 0.0016,\n",
    "   dt = 0.0001, #  time step of simulations\n",
    "   drift_model= :Parks,\n",
    "   BtDependance=true,\n",
    ")\n",
    "\n",
    "\n",
    "\n",
    "pellet = PAM.run_PAM(dd, inputs);\n",
    "#plot(pellet.time, pellet.ablation_rate;marker=:circle, markersize=1)\n",
    "#display(plot!())\n",
    "\n",
    "#plot(dd.equilibrium;cx=true)\n",
    "#plot!(pellet)\n",
    "plot(pellet.R_drift,markershape=:circle)\n",
    "#plot(pellet.ρ, pellet.radius,markershape=:circle)"
   ]
  },
  {
   "cell_type": "code",
   "execution_count": null,
   "id": "5",
   "metadata": {},
   "outputs": [],
   "source": [
    "time= [0.0, 0.1, 0.2, 0.30000000000000004, 0.4, 0.5, 0.6000000000000001, 0.7000000000000001, 0.8, 0.9, 1.0, 1.1, 1.2000000000000002, 1.3, 1.4000000000000001] ;\n",
    "rp= [0.1, 0.1, 0.1, 0.09999414910178023, 0.09996872578498792, 0.09993572421237616, 0.09989676602572373, 0.09985046637706875, 0.0997953212457394, 0.09972981598708504, 0.09965240925575566, 0.09956153544611122, 0.09945562219267796, 0.09933309558454219, 0.09919237845260413] ;"
   ]
  },
  {
   "cell_type": "code",
   "execution_count": null,
   "id": "6",
   "metadata": {},
   "outputs": [],
   "source": [
    "shift_r= [0.0, 0.0, 0.0, 0.019802188335738435, 0.028670636408833605, 0.033005884414915254, 0.0381148342417621, 0.04405238670726286, 0.05071433050632024, 0.05819507366730825, 0.06598015689173309, 0.07471327911208014, 0.08343407643992728, 0.09139138047276951, 0.0] ;"
   ]
  },
  {
   "cell_type": "code",
   "execution_count": null,
   "id": "7",
   "metadata": {},
   "outputs": [],
   "source": [
    "plot(time,shift_r)\n",
    "plot!(pellet.time*1e+3, pellet.R_drift)"
   ]
  },
  {
   "cell_type": "code",
   "execution_count": null,
   "id": "8",
   "metadata": {},
   "outputs": [],
   "source": [
    "\n",
    "plot(abc,markershape=:circle)\n",
    "plot!(pellet.radius*1e2,markershape=:circle)"
   ]
  },
  {
   "cell_type": "code",
   "execution_count": null,
   "id": "9",
   "metadata": {},
   "outputs": [],
   "source": [
    "plot(dd.equilibrium; cx=true)\n",
    "plot!(pellet)"
   ]
  },
  {
   "cell_type": "code",
   "execution_count": null,
   "id": "10",
   "metadata": {},
   "outputs": [],
   "source": [
    "plot(pellet.ablation_rate)"
   ]
  },
  {
   "cell_type": "code",
   "execution_count": null,
   "id": "11",
   "metadata": {},
   "outputs": [],
   "source": [
    "pypelr=[0.1,        0.1,        0.1,        0.09990515, 0.0981528,  0.0948701,\n",
    " 0.09087481, 0.08609535, 0.08029067, 0.07313583, 0.0641541,  0.05252969,\n",
    " 0.03642787, 0.00484595, 0.        ]\n",
    "pytime=[0.,  0.1, 0.2, 0.3, 0.4, 0.5, 0.6, 0.7, 0.8 , 0.9 , 1.,  1.1, 1.2, 1.3, 1.4]\n",
    "plot(pellet.time*1e+3, pellet.radius,markershape=:circle)\n",
    "plot!(pytime, pypelr*1e-2,markershape=:circle)\n",
    "\n"
   ]
  },
  {
   "cell_type": "code",
   "execution_count": null,
   "id": "12",
   "metadata": {},
   "outputs": [],
   "source": [
    "R1 = range(1.7, 2.5,100)\n",
    "Z1 = R1 .* 0.0\n",
    "\n",
    "# rho interpolant\n",
    "Rgrid, Zgrid, RHO_interpolant = IMAS.ρ_interpolant(eqt)\n",
    "\n",
    "# check the pellet position\n",
    "rho_start = RHO_interpolant.(R1, Z1);\n",
    "\n"
   ]
  },
  {
   "cell_type": "code",
   "execution_count": null,
   "id": "13",
   "metadata": {},
   "outputs": [],
   "source": [
    "print(pellet.R_drift)"
   ]
  },
  {
   "cell_type": "code",
   "execution_count": null,
   "id": "14",
   "metadata": {},
   "outputs": [],
   "source": [
    "pyRd = [0.,         0.,         0.,         0.02979549, 0.10370448, 0.12239645,\n",
    " 0.13416608, 0.14645173, 0.15804974, 0.16694494, 0.1684416,  0.16225686,\n",
    " 0.13513904, 0.02869696, 0.        ];"
   ]
  },
  {
   "cell_type": "code",
   "execution_count": null,
   "id": "15",
   "metadata": {},
   "outputs": [],
   "source": [
    "plot(pellet.R_drift)\n",
    "plot!(pyRd)"
   ]
  },
  {
   "cell_type": "code",
   "execution_count": null,
   "id": "16",
   "metadata": {},
   "outputs": [],
   "source": [
    "scatter(R1, rho_start)\n",
    "plot!(eqt.profiles_1d.r_outboard,eqt.profiles_1d.rho_tor_norm)\n",
    "vline!([maximum(Rgrid)])"
   ]
  },
  {
   "cell_type": "code",
   "execution_count": null,
   "id": "17",
   "metadata": {},
   "outputs": [],
   "source": [
    "# contour(sqrt.(abs.(eqt.profiles_2d[1].phi)), levels=1000)\n",
    "# for item in [:b_field_r, :b_field_tor, :b_field_z, :phi]\n",
    "#     if IMAS.hasdata(eqt.profiles_2d[1], item)\n",
    "#         empty!(eqt.profiles_2d[1], item)\n",
    "#     end\n",
    "# end\n",
    "IMAS.flux_surfaces(eqt, IMAS.first_wall(dd.wall)...)\n",
    "eqt.profiles_2d[1]"
   ]
  },
  {
   "cell_type": "code",
   "execution_count": null,
   "id": "18",
   "metadata": {},
   "outputs": [],
   "source": [
    "contour(sqrt.(abs.(eqt.profiles_2d[1].phi)), levels=1000)"
   ]
  },
  {
   "cell_type": "code",
   "execution_count": null,
   "id": "19",
   "metadata": {},
   "outputs": [],
   "source": [
    "plot(pellet.radius)"
   ]
  },
  {
   "cell_type": "code",
   "execution_count": null,
   "id": "20",
   "metadata": {},
   "outputs": [],
   "source": []
  },
  {
   "cell_type": "code",
   "execution_count": null,
   "id": "21",
   "metadata": {},
   "outputs": [],
   "source": [
    "plot(pellet.density_source[450,:])\n"
   ]
  },
  {
   "cell_type": "code",
   "execution_count": null,
   "id": "22",
   "metadata": {},
   "outputs": [],
   "source": [
    "print(pellet.ablation_rate*6.022e23*0.5/0.5)"
   ]
  },
  {
   "cell_type": "code",
   "execution_count": null,
   "id": "23",
   "metadata": {},
   "outputs": [],
   "source": [
    "0.5*(3.016+2.014)"
   ]
  },
  {
   "cell_type": "code",
   "execution_count": null,
   "id": "24",
   "metadata": {},
   "outputs": [],
   "source": [
    "39*(0.5^(5/3))*((1/0.2)^(4/3))/4/π"
   ]
  },
  {
   "cell_type": "code",
   "execution_count": null,
   "id": "25",
   "metadata": {},
   "outputs": [],
   "source": [
    "print(Na)"
   ]
  },
  {
   "cell_type": "code",
   "execution_count": null,
   "id": "26",
   "metadata": {},
   "outputs": [],
   "source": [
    "a=m_p\n",
    "print(a)"
   ]
  },
  {
   "cell_type": "code",
   "execution_count": null,
   "id": "27",
   "metadata": {},
   "outputs": [],
   "source": [
    "using PhysicalConstants.CODATA2018"
   ]
  },
  {
   "cell_type": "code",
   "execution_count": null,
   "id": "28",
   "metadata": {},
   "outputs": [],
   "source": [
    "import PhysicalConstants.CODATA2014: c_0, ε_0, μ_0, m_p"
   ]
  },
  {
   "cell_type": "code",
   "execution_count": null,
   "id": "29",
   "metadata": {},
   "outputs": [],
   "source": [
    "sqrt(2*2)"
   ]
  },
  {
   "cell_type": "code",
   "execution_count": null,
   "id": "30",
   "metadata": {},
   "outputs": [],
   "source": [
    "dd.equilibrium"
   ]
  },
  {
   "cell_type": "code",
   "execution_count": null,
   "id": "31",
   "metadata": {},
   "outputs": [],
   "source": [
    "import IMAS;\n",
    "# start with ods for DIIID case\n",
    "dd2 = IMAS.json2imas(\"/Users/galinaavdeeva/.julia/dev/PAM/inputs/ods_d3d.json\");\n",
    "eqt = dd2.equilibrium.time_slice[]\n",
    "IMAS.flux_surfaces(eqt, IMAS.first_wall(dd.wall)...);\n",
    "surfaces = IMAS.trace_surfaces(eqt, IMAS.first_wall(dd.wall)...)"
   ]
  },
  {
   "cell_type": "code",
   "execution_count": null,
   "id": "32",
   "metadata": {},
   "outputs": [],
   "source": [
    "plot!(dd2.equilibrium)"
   ]
  },
  {
   "cell_type": "code",
   "execution_count": null,
   "id": "33",
   "metadata": {},
   "outputs": [],
   "source": []
  }
 ],
 "metadata": {
  "kernelspec": {
   "display_name": "Julia (8 threads) 1.11.0",
   "language": "julia",
   "name": "julia-_8-threads_-1.11"
  },
  "language_info": {
   "file_extension": ".jl",
   "mimetype": "application/julia",
   "name": "julia",
   "version": "1.11.0"
  }
 },
 "nbformat": 4,
 "nbformat_minor": 5
}
