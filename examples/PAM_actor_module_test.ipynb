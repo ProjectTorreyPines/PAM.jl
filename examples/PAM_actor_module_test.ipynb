{
 "cells": [
  {
   "cell_type": "markdown",
   "id": "0",
   "metadata": {},
   "source": [
    "# PAM actor example"
   ]
  },
  {
   "cell_type": "code",
   "execution_count": null,
   "id": "1",
   "metadata": {},
   "outputs": [],
   "source": [
    "using Plots # for plotting\n",
    "using FUSE # this will also import IMAS in the current namespace"
   ]
  },
  {
   "cell_type": "code",
   "execution_count": null,
   "id": "2",
   "metadata": {},
   "outputs": [],
   "source": [
    "ini, act = FUSE.case_parameters(:ITER, init_from=:ods);\n",
    "dd = FUSE.init(ini, act);\n",
    "\n",
    "dd.pellets"
   ]
  },
  {
   "cell_type": "code",
   "execution_count": null,
   "id": "3",
   "metadata": {},
   "outputs": [],
   "source": [
    "#ini, act = FUSE.case_parameters(:ITER, init_from=:ods);\n",
    "#dd = FUSE.init(ini, act);\n",
    "\n",
    "#import IMAS;\n",
    "# start with dd from PAM/ST80_case/ods\n",
    "dd = IMAS.json2imas(\"/Users/galinaavdeeva/.julia/dev/PAM/examples/ods.txt\");\n",
    "# add missing (in OMFIT) time_slice to ods\n",
    "dd.core_profiles.profiles_1d[1].time = dd.equilibrium.time_slice[1].time;\n",
    "# save dd pellet structure for future use\n",
    "old_pellets = deepcopy(dd.pellets);\n",
    "\n",
    "resize!(dd.pulse_schedule.pellet.launcher, 1)\n",
    "dd.pulse_schedule.pellet.time = dd.pellets.time\n",
    "dd.pulse_schedule.pellet.launcher[1].frequency.reference = [2.0]\n"
   ]
  },
  {
   "cell_type": "code",
   "execution_count": null,
   "id": "4",
   "metadata": {},
   "outputs": [],
   "source": [
    "# add and populate 'layer' which are needed to PAM\n",
    "old_pellets = deepcopy(dd.pellets);\n",
    "\n",
    "empty!(dd.pellets)\n",
    "resize!(dd.pellets.time_slice)\n",
    "resize!(dd.pellets.time_slice[].pellet, 1)\n",
    "\n",
    "resize!(dd.pellets.time_slice[].pellet[1].layer, 1)\n",
    "resize!(dd.pellets.time_slice[].pellet[1].layer[1].species, 1);\n",
    "resize!(dd.pellets.time_slice[].pellet[1].layer[1].species, 2);\n",
    "resize!(dd.pellets.launcher, 1)"
   ]
  },
  {
   "cell_type": "code",
   "execution_count": null,
   "id": "5",
   "metadata": {},
   "outputs": [],
   "source": [
    "# modify and populate other nessesary entries\n",
    "dd.pellets.time_slice[].pellet[1].layer[1].thickness = 0.01\n",
    "\n",
    "dd.pellets.time_slice[].pellet[1].shape = old_pellets.time_slice[].pellet[1].shape\n",
    "dd.pellets.time_slice[].pellet[1].path_geometry = old_pellets.time_slice[].pellet[1].path_geometry\n",
    "dd.pellets.time_slice[].pellet[1].path_profiles = old_pellets.time_slice[].pellet[1].path_profiles\n",
    "dd.pellets.time_slice[].pellet[1].velocity_initial = 100.0 \n",
    "props = IMAS.ion_properties(:D)\n",
    "props_D = IMAS.ion_properties(:T)\n",
    "dd.pellets.time_slice[].pellet[1].layer[1].species[1].z_n = props.z_n\n",
    "dd.pellets.time_slice[].pellet[1].layer[1].species[1].a = props.a\n",
    "dd.pellets.time_slice[].pellet[1].layer[1].species[1].label = props.label\n",
    "\n",
    "dd.pellets.time_slice[].pellet[1].layer[1].species[2].z_n = props_D.z_n\n",
    "dd.pellets.time_slice[].pellet[1].layer[1].species[2].a = props_D.a\n",
    "dd.pellets.time_slice[].pellet[1].layer[1].species[2].label = props_D.label\n",
    "\n",
    "\n",
    "dd.pellets.time_slice[].pellet[1].layer[1].species[1].fraction = 0.5\n",
    "dd.pellets.time_slice[].pellet[1].layer[1].species[2].fraction = 0.5\n",
    "\n",
    "\n",
    "dd.pellets.time_slice[].pellet[1].path_geometry.second_point.z = 0.0\n",
    "dd.pellets.time_slice[].pellet[1].path_geometry.second_point.phi = 0.0\n",
    "dd.pellets.time_slice[].pellet[1].path_geometry.second_point.r = 0.9\n",
    "dd.pellets.time_slice[].pellet[1].path_geometry.first_point.r = 1.3\n",
    "\n",
    "dd.pellets.time_slice[].pellet[1].shape.size[1] = 0.01#radii[end]\n",
    "#dd.pellets.launcher = old_pellets.launcher\n",
    "dd.pellets.launcher[1].name = \"pellet\"\n",
    "#dd.pellets.launcher[1].shape = dd.pellets.time_slice[].pellet[1].shape"
   ]
  },
  {
   "cell_type": "code",
   "execution_count": null,
   "id": "6",
   "metadata": {},
   "outputs": [],
   "source": [
    "dd.pellets"
   ]
  },
  {
   "cell_type": "code",
   "execution_count": null,
   "id": "7",
   "metadata": {},
   "outputs": [],
   "source": [
    "display(act.ActorPAM)"
   ]
  },
  {
   "cell_type": "code",
   "execution_count": null,
   "id": "8",
   "metadata": {},
   "outputs": [],
   "source": [
    "#FUSE.test_cases\n",
    "ini, act = FUSE.case_parameters(:KDEMO);\n",
    "dd = FUSE.init(ini, act);"
   ]
  },
  {
   "cell_type": "code",
   "execution_count": null,
   "id": "9",
   "metadata": {},
   "outputs": [],
   "source": [
    "act = FUSE.ParametersActors()"
   ]
  },
  {
   "cell_type": "code",
   "execution_count": null,
   "id": "10",
   "metadata": {},
   "outputs": [],
   "source": [
    "actor = FUSE.ActorPAM(dd, act);\n"
   ]
  },
  {
   "cell_type": "code",
   "execution_count": null,
   "id": "11",
   "metadata": {},
   "outputs": [],
   "source": [
    "plot(dd.core_sources)"
   ]
  },
  {
   "cell_type": "code",
   "execution_count": null,
   "id": "12",
   "metadata": {},
   "outputs": [],
   "source": []
  }
 ],
 "metadata": {
  "kernelspec": {
   "display_name": "Julia (8 threads) 1.11.0",
   "language": "julia",
   "name": "julia-_8-threads_-1.11"
  },
  "language_info": {
   "file_extension": ".jl",
   "mimetype": "application/julia",
   "name": "julia",
   "version": "1.11.0"
  }
 },
 "nbformat": 4,
 "nbformat_minor": 5
}
