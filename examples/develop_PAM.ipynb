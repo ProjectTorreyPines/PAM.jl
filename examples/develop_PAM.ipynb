{
 "cells": [
  {
   "cell_type": "code",
   "execution_count": 1,
   "id": "c4a2b403-f682-4468-bf7d-ff7b4a8aa1af",
   "metadata": {},
   "outputs": [],
   "source": [
    "import PAM"
   ]
  },
  {
   "cell_type": "code",
   "execution_count": 2,
   "id": "aced98f7-7699-4870-b3f3-5c75adefa088",
   "metadata": {},
   "outputs": [
    {
     "name": "stdout",
     "output_type": "stream",
     "text": [
      "Hello Galina!"
     ]
    }
   ],
   "source": [
    "PAM.greet()"
   ]
  },
  {
   "cell_type": "code",
   "execution_count": null,
   "id": "c11a1f9b-9fcb-4d28-ab22-ffe81b45e81d",
   "metadata": {},
   "outputs": [],
   "source": []
  }
 ],
 "metadata": {
  "kernelspec": {
   "display_name": "Julia (8 threads) 1.10.4",
   "language": "julia",
   "name": "julia-_8-threads_-1.10"
  },
  "language_info": {
   "file_extension": ".jl",
   "mimetype": "application/julia",
   "name": "julia",
   "version": "1.10.4"
  }
 },
 "nbformat": 4,
 "nbformat_minor": 5
}
