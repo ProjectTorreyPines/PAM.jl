{
 "cells": [
  {
   "cell_type": "code",
   "execution_count": null,
   "id": "c4a2b403-f682-4468-bf7d-ff7b4a8aa1af",
   "metadata": {},
   "outputs": [],
   "source": [
    "using Plots\n",
    "import PAM"
   ]
  },
  {
   "cell_type": "code",
   "execution_count": null,
   "id": "79e9ca82-9105-456c-a3c3-9b10b40dbdf9",
   "metadata": {},
   "outputs": [],
   "source": [
    "import IMAS\n",
    "# start with dd from PAM/ST80_case/ods\n",
    "dd = IMAS.json2imas(\"/Users/galinaavdeeva/.julia/dev/PAM/examples/ods.txt\");\n",
    "# add missing (in OMFIT) time_slice to ods\n",
    "dd.core_profiles.profiles_1d[1].time = dd.equilibrium.time_slice[1].time;\n",
    "# save dd pellet structure for future use\n",
    "old_pellets = deepcopy(dd.pellets);"
   ]
  },
  {
   "cell_type": "code",
   "execution_count": null,
   "id": "59e0209f-a214-413b-af64-567ed71b0cc5",
   "metadata": {},
   "outputs": [],
   "source": [
    "old_pellets"
   ]
  },
  {
   "cell_type": "code",
   "execution_count": null,
   "id": "7b445116-7c85-474a-a053-26c5b0d8b8b8",
   "metadata": {},
   "outputs": [],
   "source": [
    "# add and populate 'layer' which are needed to PAM\n",
    "\n",
    "empty!(dd.pellets)\n",
    "resize!(dd.pellets.time_slice)\n",
    "resize!(dd.pellets.time_slice[].pellet, 1)\n",
    "resize!(dd.pellets.time_slice[].pellet[1].layer, 1)\n",
    "resize!(dd.pellets.time_slice[].pellet[1].layer[1].species, 2);"
   ]
  },
  {
   "cell_type": "code",
   "execution_count": null,
   "id": "39842a4f-63d5-4a06-9e49-c94847863473",
   "metadata": {},
   "outputs": [],
   "source": [
    "# modify and populta other nessesary entries\n",
    "dd.pellets.time_slice[].pellet[1].layer[1].thickness = 1E-3\n",
    "dd.pellets.time_slice[].pellet[1].path_geometry = old_pellets.time_slice[].pellet[1].path_geometry\n",
    "dd.pellets.time_slice[].pellet[1].path_profiles = old_pellets.time_slice[].pellet[1].path_profiles\n",
    "dd.pellets.time_slice[].pellet[1].velocity_initial = old_pellets.time_slice[].pellet[1].velocity_initial\n",
    "props = IMAS.ion_properties(:H)\n",
    "dd.pellets.time_slice[].pellet[1].layer[1].species[1].z_n = props.z_n\n",
    "dd.pellets.time_slice[].pellet[1].layer[1].species[1].a = props.a\n",
    "dd.pellets.time_slice[].pellet[1].layer[1].species[1].label = props.label\n",
    "\n",
    "dd.pellets.time_slice[].pellet[1].path_geometry.second_point.z = 0.1\n",
    "dd.pellets.time_slice[].pellet[1].path_geometry.second_point.phi = 0.1\n",
    "\n",
    "# ├─ a [Atomic Mass Unit]  Mass of atom\n",
    "# ├─ density [atoms.m^-3]  Material density of the species in the pellet\n",
    "# ├─ fraction  Atomic fraction of the species in the pellet\n",
    "# ├─ label  String identifying the species (e.g. H, D, T, ...)\n",
    "# ├─ sublimation_energy [eV]  Sublimation energy per atom\n",
    "# └─ z_n [Elementary Charge Unit]  Nuclear charge\n",
    "\n",
    "dd.pellets"
   ]
  },
  {
   "cell_type": "code",
   "execution_count": null,
   "id": "11e44b2b-280b-46a4-b06d-92f4b1d8d6b7",
   "metadata": {},
   "outputs": [],
   "source": [
    "# run PAM\n",
    "\n",
    "inputs=(\n",
    "   t0 = 0,\n",
    "   tf = 0.06,\n",
    "   dt = 0.0001, #  time step of simulations\n",
    "   debug=true\n",
    ")\n",
    "\n",
    "PAM.run_pam(dd, inputs)"
   ]
  },
  {
   "cell_type": "code",
   "execution_count": null,
   "id": "450aed98-a29b-4e64-8485-1cd0646ab243",
   "metadata": {},
   "outputs": [],
   "source": [
    "# see the original IMAS.dd for pellets\n",
    "IMAS.pellets"
   ]
  },
  {
   "cell_type": "code",
   "execution_count": null,
   "id": "979dd76d-8390-4d69-9569-a88b97f122d2",
   "metadata": {},
   "outputs": [],
   "source": []
  }
 ],
 "metadata": {
  "kernelspec": {
   "display_name": "Julia (8 threads) 1.10.4",
   "language": "julia",
   "name": "julia-_8-threads_-1.10"
  },
  "language_info": {
   "file_extension": ".jl",
   "mimetype": "application/julia",
   "name": "julia",
   "version": "1.10.4"
  }
 },
 "nbformat": 4,
 "nbformat_minor": 5
}
