{
 "cells": [
  {
   "cell_type": "code",
   "execution_count": null,
   "id": "0",
   "metadata": {},
   "outputs": [],
   "source": [
    "using Plots\n",
    "using PAM"
   ]
  },
  {
   "cell_type": "code",
   "execution_count": null,
   "id": "1",
   "metadata": {},
   "outputs": [],
   "source": [
    "import IMAS;\n",
    "# start with dd from PAM/ST80_case/ods\n",
    "dd = IMAS.json2imas(\"/Users/galinaavdeeva/.julia/dev/PAM/examples/ods.txt\");\n",
    "# add missing (in OMFIT) time_slice to ods\n",
    "dd.core_profiles.profiles_1d[1].time = dd.equilibrium.time_slice[1].time;\n",
    "# save dd pellet structure for future use\n",
    "old_pellets = deepcopy(dd.pellets);"
   ]
  },
  {
   "cell_type": "code",
   "execution_count": null,
   "id": "2",
   "metadata": {},
   "outputs": [],
   "source": [
    "# add and populate 'layer' which are needed to PAM\n",
    "\n",
    "empty!(dd.pellets)\n",
    "resize!(dd.pellets.time_slice)\n",
    "resize!(dd.pellets.time_slice[].pellet, 1)\n",
    "resize!(dd.pellets.time_slice[].pellet[1].layer, 1)\n",
    "resize!(dd.pellets.time_slice[].pellet[1].layer[1].species, 1);\n",
    "resize!(dd.pellets.time_slice[].pellet[1].layer[1].species, 2);\n",
    "resize!(dd.pellets.time_slice[].pellet[1].layer, 2)\n",
    "resize!(dd.pellets.time_slice[].pellet[1].layer[2].species, 1);\n",
    "resize!(dd.pellets.time_slice[].pellet[1].layer[2].species, 2);\n"
   ]
  },
  {
   "cell_type": "code",
   "execution_count": null,
   "id": "3",
   "metadata": {},
   "outputs": [],
   "source": [
    "# modify and populate other nessesary entries\n",
    "dd.pellets.time_slice[].pellet[1].layer[1].thickness = 0.025\n",
    "dd.pellets.time_slice[].pellet[1].layer[2].thickness = 0.025\n",
    "dd.pellets.time_slice[].pellet[1].shape = old_pellets.time_slice[].pellet[1].shape\n",
    "dd.pellets.time_slice[].pellet[1].path_geometry = old_pellets.time_slice[].pellet[1].path_geometry\n",
    "dd.pellets.time_slice[].pellet[1].path_profiles = old_pellets.time_slice[].pellet[1].path_profiles\n",
    "dd.pellets.time_slice[].pellet[1].velocity_initial = 100.0 #old_pellets.time_slice[].pellet[1].velocity_initial\n",
    "props = IMAS.ion_properties(:D)\n",
    "props_D = IMAS.ion_properties(:T)\n",
    "dd.pellets.time_slice[].pellet[1].layer[1].species[1].z_n = props.z_n\n",
    "dd.pellets.time_slice[].pellet[1].layer[1].species[1].a = props.a\n",
    "dd.pellets.time_slice[].pellet[1].layer[1].species[1].label = props.label\n",
    "\n",
    "dd.pellets.time_slice[].pellet[1].layer[1].species[2].z_n = props_D.z_n\n",
    "dd.pellets.time_slice[].pellet[1].layer[1].species[2].a = props_D.a\n",
    "dd.pellets.time_slice[].pellet[1].layer[1].species[2].label = props_D.label\n",
    "\n",
    "\n",
    "dd.pellets.time_slice[].pellet[1].layer[1].species[1].fraction = old_pellets.time_slice[].pellet[1].species[1].fraction\n",
    "dd.pellets.time_slice[].pellet[1].layer[1].species[2].fraction = old_pellets.time_slice[].pellet[1].species[2].fraction\n",
    "\n",
    "\n",
    "dd.pellets.time_slice[].pellet[1].layer[2].species[1].z_n = props.z_n\n",
    "dd.pellets.time_slice[].pellet[1].layer[2].species[1].a = props.a\n",
    "dd.pellets.time_slice[].pellet[1].layer[2].species[1].label = props.label\n",
    "dd.pellets.time_slice[].pellet[1].layer[2].species[1].fraction = old_pellets.time_slice[].pellet[1].species[1].fraction\n",
    "\n",
    "\n",
    "dd.pellets.time_slice[].pellet[1].layer[2].species[2].z_n = props_D.z_n\n",
    "dd.pellets.time_slice[].pellet[1].layer[2].species[2].a = props_D.a\n",
    "dd.pellets.time_slice[].pellet[1].layer[2].species[2].label = props_D.label\n",
    "dd.pellets.time_slice[].pellet[1].layer[2].species[2].fraction = old_pellets.time_slice[].pellet[1].species[2].fraction\n",
    "\n",
    "\n",
    "dd.pellets.time_slice[].pellet[1].path_geometry.second_point.z = 0.1\n",
    "dd.pellets.time_slice[].pellet[1].path_geometry.second_point.phi = 0.1\n",
    "\n",
    "radii = cumsum([layer.thickness for layer in dd.pellets.time_slice[].pellet[1].layer])\n",
    "dd.pellets.time_slice[].pellet[1].shape.size[1] = 0.05#radii[end]\n",
    "\n",
    "\n",
    "dd.pellets"
   ]
  },
  {
   "cell_type": "code",
   "execution_count": null,
   "id": "4",
   "metadata": {},
   "outputs": [],
   "source": [
    "import IMAS;\n",
    "# start with ods for DIIID case\n",
    "dd = IMAS.json2imas(\"/Users/galinaavdeeva/.julia/dev/PAM/inputs/ods_d3d.json\");\n",
    "eqt = dd.equilibrium.time_slice[]\n",
    "IMAS.flux_surfaces(eqt, IMAS.first_wall(dd.wall)...);\n",
    "# add missing (in OMFIT) time_slice to ods\n",
    "dd_pellet = IMAS.json2imas(\"/Users/galinaavdeeva/.julia/dev/PAM/examples/ods.txt\");\n",
    "dd.core_profiles.profiles_1d[1].time = dd.equilibrium.time_slice[1].time;\n",
    "# save dd pellet structure for future use\n",
    "old_pellets = deepcopy(dd_pellet.pellets);\n"
   ]
  },
  {
   "cell_type": "code",
   "execution_count": null,
   "id": "5",
   "metadata": {},
   "outputs": [],
   "source": []
  }
 ],
 "metadata": {
  "kernelspec": {
   "display_name": "Julia (8 threads) 1.11.0",
   "language": "julia",
   "name": "julia-_8-threads_-1.11"
  },
  "language_info": {
   "file_extension": ".jl",
   "mimetype": "application/julia",
   "name": "julia",
   "version": "1.11.0"
  }
 },
 "nbformat": 4,
 "nbformat_minor": 5
}
