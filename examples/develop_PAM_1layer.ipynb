{
 "cells": [
  {
   "cell_type": "code",
   "execution_count": null,
   "id": "0",
   "metadata": {},
   "outputs": [],
   "source": [
    "using Plots\n",
    "using PAM"
   ]
  },
  {
   "cell_type": "code",
   "execution_count": null,
   "id": "1",
   "metadata": {},
   "outputs": [],
   "source": [
    "import IMAS;\n",
    "# start with dd from PAM/ST80_case/ods\n",
    "dd = IMAS.json2imas(\"/Users/galinaavdeeva/.julia/dev/PAM/examples/ods.txt\");\n",
    "# add missing (in OMFIT) time_slice to ods\n",
    "dd.core_profiles.profiles_1d[1].time = dd.equilibrium.time_slice[1].time;\n",
    "# save dd pellet structure for future use\n",
    "old_pellets = deepcopy(dd.pellets);"
   ]
  },
  {
   "cell_type": "code",
   "execution_count": null,
   "id": "2",
   "metadata": {},
   "outputs": [],
   "source": [
    "# add and populate 'layer' which are needed to PAM\n",
    "\n",
    "empty!(dd.pellets)\n",
    "resize!(dd.pellets.time_slice)\n",
    "resize!(dd.pellets.time_slice[].pellet, 1)\n",
    "resize!(dd.pellets.time_slice[].pellet[1].layer, 1)\n",
    "resize!(dd.pellets.time_slice[].pellet[1].layer[1].species, 1);\n",
    "resize!(dd.pellets.time_slice[].pellet[1].layer[1].species, 2);\n"
   ]
  },
  {
   "cell_type": "code",
   "execution_count": null,
   "id": "3",
   "metadata": {},
   "outputs": [],
   "source": [
    "# modify and populate other nessesary entries\n",
    "dd.pellets.time_slice[].pellet[1].layer[1].thickness = 0.01\n",
    "\n",
    "dd.pellets.time_slice[].pellet[1].shape = old_pellets.time_slice[].pellet[1].shape\n",
    "dd.pellets.time_slice[].pellet[1].path_geometry = old_pellets.time_slice[].pellet[1].path_geometry\n",
    "dd.pellets.time_slice[].pellet[1].path_profiles = old_pellets.time_slice[].pellet[1].path_profiles\n",
    "dd.pellets.time_slice[].pellet[1].velocity_initial = 100.0 #old_pellets.time_slice[].pellet[1].velocity_initial\n",
    "props = IMAS.ion_properties(:D)\n",
    "props_D = IMAS.ion_properties(:T)\n",
    "dd.pellets.time_slice[].pellet[1].layer[1].species[1].z_n = props.z_n\n",
    "dd.pellets.time_slice[].pellet[1].layer[1].species[1].a = props.a\n",
    "dd.pellets.time_slice[].pellet[1].layer[1].species[1].label = props.label\n",
    "\n",
    "dd.pellets.time_slice[].pellet[1].layer[1].species[2].z_n = props_D.z_n\n",
    "dd.pellets.time_slice[].pellet[1].layer[1].species[2].a = props_D.a\n",
    "dd.pellets.time_slice[].pellet[1].layer[1].species[2].label = props_D.label\n",
    "\n",
    "\n",
    "dd.pellets.time_slice[].pellet[1].layer[1].species[1].fraction = old_pellets.time_slice[].pellet[1].species[1].fraction\n",
    "dd.pellets.time_slice[].pellet[1].layer[1].species[2].fraction = old_pellets.time_slice[].pellet[1].species[2].fraction\n",
    "\n",
    "\n",
    "dd.pellets.time_slice[].pellet[1].path_geometry.second_point.z = 0.0\n",
    "dd.pellets.time_slice[].pellet[1].path_geometry.second_point.phi = 0.0\n",
    "dd.pellets.time_slice[].pellet[1].path_geometry.second_point.r = 0.9\n",
    "dd.pellets.time_slice[].pellet[1].path_geometry.first_point.r = 1.3\n",
    "\n",
    "\n",
    "\n",
    "\n",
    "radii = cumsum([layer.thickness for layer in dd.pellets.time_slice[].pellet[1].layer])\n",
    "dd.pellets.time_slice[].pellet[1].shape.size[1] = 0.01#radii[end]\n",
    "\n",
    "\n"
   ]
  },
  {
   "cell_type": "code",
   "execution_count": null,
   "id": "4",
   "metadata": {},
   "outputs": [],
   "source": [
    "display(dd.equilibrium)"
   ]
  },
  {
   "cell_type": "code",
   "execution_count": null,
   "id": "5",
   "metadata": {},
   "outputs": [],
   "source": [
    "print(dd.equilibrium.time_slice[1].boundary.minor_radius)"
   ]
  },
  {
   "cell_type": "code",
   "execution_count": null,
   "id": "6",
   "metadata": {},
   "outputs": [],
   "source": [
    "# run PAM\n",
    "\n",
    "inputs=(\n",
    "   t0 = 0,\n",
    "   tf = 0.0015,\n",
    "   dt = 0.000001, #  time step of simulations\n",
    "   drift_model=\"HPI2\",\n",
    "   BtDependance=false\n",
    ")\n",
    "\n",
    "\n",
    "\n",
    "pellet = PAM.run_pam(dd, inputs);\n",
    "#plot(pellet.time, pellet.ablation_rate;marker=:circle, markersize=1)\n",
    "#display(plot!())\n",
    "\n",
    "#plot(dd.equilibrium;cx=true)\n",
    "#plot!(pellet)"
   ]
  },
  {
   "cell_type": "code",
   "execution_count": null,
   "id": "7",
   "metadata": {},
   "outputs": [],
   "source": [
    "plot(dd.equilibrium; cx=true)\n",
    "plot!(pellet)\n",
    "\n",
    "#plot(pellet.radius)"
   ]
  },
  {
   "cell_type": "code",
   "execution_count": null,
   "id": "8",
   "metadata": {},
   "outputs": [],
   "source": [
    "print((pellet.time[10]-pellet.time[9])*1e+3)"
   ]
  },
  {
   "cell_type": "code",
   "execution_count": null,
   "id": "9",
   "metadata": {},
   "outputs": [],
   "source": [
    "print((pellet.ablation_rate[100])*1e+3)"
   ]
  },
  {
   "cell_type": "code",
   "execution_count": null,
   "id": "10",
   "metadata": {},
   "outputs": [],
   "source": [
    "print(pellet.R_drift[end])"
   ]
  },
  {
   "cell_type": "code",
   "execution_count": null,
   "id": "11",
   "metadata": {},
   "outputs": [],
   "source": [
    "plot(pellet.time, pellet.radius)\n"
   ]
  },
  {
   "cell_type": "code",
   "execution_count": null,
   "id": "12",
   "metadata": {},
   "outputs": [],
   "source": [
    "contourf(pellet.density_source)"
   ]
  },
  {
   "cell_type": "code",
   "execution_count": null,
   "id": "13",
   "metadata": {},
   "outputs": [],
   "source": []
  },
  {
   "cell_type": "code",
   "execution_count": null,
   "id": "14",
   "metadata": {},
   "outputs": [],
   "source": [
    "plot(pellet.density_source[600,:])\n"
   ]
  },
  {
   "cell_type": "code",
   "execution_count": null,
   "id": "15",
   "metadata": {},
   "outputs": [],
   "source": [
    "print(pellet.ablation_rate*6.022e23*0.5/0.5)"
   ]
  },
  {
   "cell_type": "code",
   "execution_count": null,
   "id": "16",
   "metadata": {},
   "outputs": [],
   "source": [
    "0.5*(3.016+2.014)"
   ]
  },
  {
   "cell_type": "code",
   "execution_count": null,
   "id": "17",
   "metadata": {},
   "outputs": [],
   "source": [
    "39*(0.5^(5/3))*((1/0.2)^(4/3))/4/π"
   ]
  },
  {
   "cell_type": "code",
   "execution_count": null,
   "id": "18",
   "metadata": {},
   "outputs": [],
   "source": [
    "print(Na)"
   ]
  },
  {
   "cell_type": "code",
   "execution_count": null,
   "id": "19",
   "metadata": {},
   "outputs": [],
   "source": [
    "a=m_p\n",
    "print(a)"
   ]
  },
  {
   "cell_type": "code",
   "execution_count": null,
   "id": "20",
   "metadata": {},
   "outputs": [],
   "source": [
    "using PhysicalConstants.CODATA2018"
   ]
  },
  {
   "cell_type": "code",
   "execution_count": null,
   "id": "21",
   "metadata": {},
   "outputs": [],
   "source": [
    "import PhysicalConstants.CODATA2014: c_0, ε_0, μ_0, m_p"
   ]
  },
  {
   "cell_type": "code",
   "execution_count": null,
   "id": "22",
   "metadata": {},
   "outputs": [],
   "source": []
  }
 ],
 "metadata": {
  "kernelspec": {
   "display_name": "Julia (8 threads) 1.11.0",
   "language": "julia",
   "name": "julia-_8-threads_-1.11"
  },
  "language_info": {
   "file_extension": ".jl",
   "mimetype": "application/julia",
   "name": "julia",
   "version": "1.11.0"
  }
 },
 "nbformat": 4,
 "nbformat_minor": 5
}
