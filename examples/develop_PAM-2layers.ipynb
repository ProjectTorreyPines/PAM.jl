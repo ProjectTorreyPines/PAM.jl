{
 "cells": [
  {
   "cell_type": "code",
   "execution_count": null,
   "id": "0",
   "metadata": {},
   "outputs": [],
   "source": [
    "using Plots\n",
    "using PAM"
   ]
  },
  {
   "cell_type": "code",
   "execution_count": null,
   "id": "1",
   "metadata": {},
   "outputs": [],
   "source": [
    "import IMAS;\n",
    "# start with dd from PAM/ST80_case/ods\n",
    "dd = IMAS.json2imas(\"/Users/galinaavdeeva/.julia/dev/PAM/examples/ods.txt\");\n",
    "# add missing (in OMFIT) time_slice to ods\n",
    "dd.core_profiles.profiles_1d[1].time = dd.equilibrium.time_slice[1].time;\n",
    "# save dd pellet structure for future use\n",
    "old_pellets = deepcopy(dd.pellets);"
   ]
  },
  {
   "cell_type": "code",
   "execution_count": null,
   "id": "2",
   "metadata": {},
   "outputs": [],
   "source": [
    "# add and populate 'layer' which are needed to PAM\n",
    "\n",
    "empty!(dd.pellets)\n",
    "resize!(dd.pellets.time_slice)\n",
    "resize!(dd.pellets.time_slice[].pellet, 1)\n",
    "resize!(dd.pellets.time_slice[].pellet[1].layer, 1)\n",
    "resize!(dd.pellets.time_slice[].pellet[1].layer[1].species, 1);\n",
    "resize!(dd.pellets.time_slice[].pellet[1].layer[1].species, 2);\n",
    "resize!(dd.pellets.time_slice[].pellet[1].layer, 2)\n",
    "resize!(dd.pellets.time_slice[].pellet[1].layer[2].species, 1);\n",
    "resize!(dd.pellets.time_slice[].pellet[1].layer[2].species, 2);\n"
   ]
  },
  {
   "cell_type": "code",
   "execution_count": null,
   "id": "3",
   "metadata": {},
   "outputs": [],
   "source": [
    "# modify and populate other nessesary entries\n",
    "dd.pellets.time_slice[].pellet[1].layer[1].thickness = 0.025\n",
    "dd.pellets.time_slice[].pellet[1].layer[2].thickness = 0.025\n",
    "dd.pellets.time_slice[].pellet[1].shape = old_pellets.time_slice[].pellet[1].shape\n",
    "dd.pellets.time_slice[].pellet[1].path_geometry = old_pellets.time_slice[].pellet[1].path_geometry\n",
    "dd.pellets.time_slice[].pellet[1].path_profiles = old_pellets.time_slice[].pellet[1].path_profiles\n",
    "dd.pellets.time_slice[].pellet[1].velocity_initial = 100.0 #old_pellets.time_slice[].pellet[1].velocity_initial\n",
    "props = IMAS.ion_properties(:D)\n",
    "props_D = IMAS.ion_properties(:T)\n",
    "dd.pellets.time_slice[].pellet[1].layer[1].species[1].z_n = props.z_n\n",
    "dd.pellets.time_slice[].pellet[1].layer[1].species[1].a = props.a\n",
    "dd.pellets.time_slice[].pellet[1].layer[1].species[1].label = props.label\n",
    "\n",
    "dd.pellets.time_slice[].pellet[1].layer[1].species[2].z_n = props_D.z_n\n",
    "dd.pellets.time_slice[].pellet[1].layer[1].species[2].a = props_D.a\n",
    "dd.pellets.time_slice[].pellet[1].layer[1].species[2].label = props_D.label\n",
    "\n",
    "\n",
    "dd.pellets.time_slice[].pellet[1].layer[1].species[1].fraction = old_pellets.time_slice[].pellet[1].species[1].fraction\n",
    "dd.pellets.time_slice[].pellet[1].layer[1].species[2].fraction = old_pellets.time_slice[].pellet[1].species[2].fraction\n",
    "\n",
    "\n",
    "dd.pellets.time_slice[].pellet[1].layer[2].species[1].z_n = props.z_n\n",
    "dd.pellets.time_slice[].pellet[1].layer[2].species[1].a = props.a\n",
    "dd.pellets.time_slice[].pellet[1].layer[2].species[1].label = props.label\n",
    "dd.pellets.time_slice[].pellet[1].layer[2].species[1].fraction = old_pellets.time_slice[].pellet[1].species[1].fraction\n",
    "\n",
    "\n",
    "dd.pellets.time_slice[].pellet[1].layer[2].species[2].z_n = props_D.z_n\n",
    "dd.pellets.time_slice[].pellet[1].layer[2].species[2].a = props_D.a\n",
    "dd.pellets.time_slice[].pellet[1].layer[2].species[2].label = props_D.label\n",
    "dd.pellets.time_slice[].pellet[1].layer[2].species[2].fraction = old_pellets.time_slice[].pellet[1].species[2].fraction\n",
    "\n",
    "\n",
    "dd.pellets.time_slice[].pellet[1].path_geometry.second_point.z = 0.1\n",
    "dd.pellets.time_slice[].pellet[1].path_geometry.second_point.phi = 0.1\n",
    "\n",
    "radii = cumsum([layer.thickness for layer in dd.pellets.time_slice[].pellet[1].layer])\n",
    "dd.pellets.time_slice[].pellet[1].shape.size[1] = 0.05#radii[end]\n",
    "\n",
    "\n",
    "dd.pellets"
   ]
  },
  {
   "cell_type": "code",
   "execution_count": null,
   "id": "4",
   "metadata": {},
   "outputs": [],
   "source": [
    "# run PAM\n",
    "\n",
    "inputs=(\n",
    "   t0 = 0,\n",
    "   tf = 0.06,\n",
    "   dt = 0.001, #  time step of simulations\n",
    ")\n",
    "\n",
    "\n",
    "\n",
    "pellet = PAM.run_pam(dd, inputs);\n",
    "#plot(pellet.time, pellet.ablation_rate;marker=:circle, markersize=1)\n",
    "#display(plot!())\n",
    "\n",
    "#plot(dd.equilibrium;cx=true)\n",
    "#plot!(pellet)"
   ]
  },
  {
   "cell_type": "code",
   "execution_count": null,
   "id": "5",
   "metadata": {},
   "outputs": [],
   "source": [
    "plot(dd.equilibrium; cx=true)\n",
    "plot!(pellet)\n",
    "\n",
    "#plot(pellet.radius)"
   ]
  },
  {
   "cell_type": "code",
   "execution_count": null,
   "id": "6",
   "metadata": {},
   "outputs": [],
   "source": [
    "plot(pellet.ablation_rate)"
   ]
  },
  {
   "cell_type": "code",
   "execution_count": null,
   "id": "7",
   "metadata": {},
   "outputs": [],
   "source": [
    "plot(pellet.x, pellet.density_source[:,50])\n"
   ]
  },
  {
   "cell_type": "code",
   "execution_count": null,
   "id": "8",
   "metadata": {},
   "outputs": [],
   "source": [
    "print(pellet.properties)"
   ]
  },
  {
   "cell_type": "code",
   "execution_count": null,
   "id": "9",
   "metadata": {},
   "outputs": [],
   "source": [
    "0.5*(3.016+2.014)"
   ]
  },
  {
   "cell_type": "code",
   "execution_count": null,
   "id": "10",
   "metadata": {},
   "outputs": [],
   "source": []
  }
 ],
 "metadata": {
  "kernelspec": {
   "display_name": "Julia (8 threads) 1.11.0",
   "language": "julia",
   "name": "julia-_8-threads_-1.11"
  },
  "language_info": {
   "file_extension": ".jl",
   "mimetype": "application/julia",
   "name": "julia",
   "version": "1.11.0"
  }
 },
 "nbformat": 4,
 "nbformat_minor": 5
}
